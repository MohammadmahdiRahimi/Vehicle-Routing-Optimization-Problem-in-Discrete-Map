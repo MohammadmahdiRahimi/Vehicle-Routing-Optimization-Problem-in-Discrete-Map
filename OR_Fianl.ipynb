{
  "nbformat": 4,
  "nbformat_minor": 0,
  "metadata": {
    "colab": {
      "name": "OR_Fianl.ipynb",
      "provenance": [],
      "collapsed_sections": []
    },
    "kernelspec": {
      "name": "python3",
      "display_name": "Python 3"
    },
    "language_info": {
      "name": "python"
    }
  },
  "cells": [
    {
      "cell_type": "code",
      "execution_count": 1,
      "metadata": {
        "colab": {
          "base_uri": "https://localhost:8080/"
        },
        "id": "2tAfvw-kWbX1",
        "outputId": "69a117a0-8cd7-41aa-c493-ac3d61ad57fc"
      },
      "outputs": [
        {
          "output_type": "stream",
          "name": "stdout",
          "text": [
            "Collecting mip\n",
            "  Downloading mip-1.13.0-py3-none-any.whl (48.0 MB)\n",
            "\u001b[K     |████████████████████████████████| 48.0 MB 1.5 MB/s \n",
            "\u001b[?25hRequirement already satisfied: cffi in /usr/local/lib/python3.7/dist-packages (from mip) (1.15.0)\n",
            "Requirement already satisfied: pycparser in /usr/local/lib/python3.7/dist-packages (from cffi->mip) (2.21)\n",
            "Installing collected packages: mip\n",
            "Successfully installed mip-1.13.0\n"
          ]
        }
      ],
      "source": [
        "!pip install mip"
      ]
    },
    {
      "cell_type": "code",
      "source": [
        "import pandas as pd\n",
        "from mip import Model, xsum, minimize, BINARY\n",
        "#load data\n",
        "df = pd.read_csv(\"Data.csv\", sep=';')\n",
        "num = len(df)\n",
        "weights = [[1000 for j in range(num)]for i in range(num)]\n",
        "names = list(df['Place_name'])\n",
        "Latitude = list(df['Latitude'])\n",
        "Longitude = list(df['Longitude'])\n",
        "neighbors = [[int(x) for x in arr.split(',')] for arr in df['Neighbors_indice']]\n",
        "diatance = [[int(x) for x in arr.split(',')] for arr in df['Neighbor_weight']]\n",
        "#create model\n",
        "model = Model()\n",
        "nodes = set(range(num))\n",
        "#create matrix of weights\n",
        "for temp_index in range(num):\n",
        "    for temp_neighbor in range(len(neighbors[temp_index-1])):\n",
        "        weights[temp_index-1][neighbors[temp_index-1][temp_neighbor]-1] = diatance[temp_index-1][temp_neighbor]\n",
        "#fix model\n",
        "x = [[model.add_var(var_type=BINARY) for j in nodes] for i in nodes]\n",
        "model.objective = minimize(xsum(weights[i][j] * x[i][j] for i in nodes for j in nodes))\n",
        "#show places name\n",
        "print('Please select index of places.')\n",
        "print('Places:')\n",
        "for i in range(num):\n",
        "    print(i+1, names[i])\n",
        "#get index of places from user  \n",
        "print('Enter starting point:')\n",
        "start = int(input())-1\n",
        "print('Enter destination:')\n",
        "end = int(input())-1\n",
        "\n",
        "#subject to:\n",
        "for i in nodes - {start, end}:\n",
        "    model += xsum(x[i][j] for j in nodes) == \\\n",
        "     xsum(x[j][i] for j in nodes)\n",
        "model += xsum(x[start][j] for j in nodes) == xsum(x[j][start] for j in nodes) + 1\n",
        "model += xsum(x[end][j] for j in nodes) == xsum(x[j][end] for j in nodes) - 1\n",
        "model.optimize()\n",
        "#show the answer\n",
        "print('               Index              Name                Latitude               Longitude')\n",
        "print('Starting point: ', start+1, '     ', names[start], '            ', Latitude[start], '         ', Longitude[start])\n",
        "print('destination:    ', end+1, '     ', names[end], '            ', Latitude[end], '         ', Longitude[end])\n",
        "if model.num_solutions:\n",
        "    print('Best way is found:')\n",
        "    print('Index in order: ', start+1, end = '')\n",
        "    temp_node = start\n",
        "    while(temp_node != end):\n",
        "        for i in range(num):\n",
        "            if(x[temp_node][i].x):\n",
        "                temp_node = i\n",
        "                break\n",
        "        print(' ->', temp_node+1, end = '')\n",
        "    print('\\n')\n",
        "    print('Names in order: ', names[start], end = '')\n",
        "    temp_node = start\n",
        "    while(temp_node != end):\n",
        "        for i in range(num):\n",
        "            if(x[temp_node][i].x):\n",
        "                temp_node = i\n",
        "                break\n",
        "        print(' ->', names[temp_node], end = '')\n",
        "    print('\\n cost = ', model.objective_value)\n",
        "    "
      ],
      "metadata": {
        "colab": {
          "base_uri": "https://localhost:8080/"
        },
        "id": "agExr3OWWhX-",
        "outputId": "dfd325bb-7bca-40f9-c39a-02d29eaa0371"
      },
      "execution_count": 2,
      "outputs": [
        {
          "output_type": "stream",
          "name": "stdout",
          "text": [
            "Please select index of places.\n",
            "Places:\n",
            "1 UT_campus_ENG\n",
            "2 UT_Enghelab\n",
            "3 Imam_khomeini_hospital\n",
            "4 Ferdosi_park\n",
            "5 Mirzaye_shirazi_subway_station\n",
            "6 Kasra_hospital\n",
            "7 Hemat_subway_station\n",
            "8 Mellat_park\n",
            "9 Baqiatallah_hospital\n",
            "10 Iranmehr-hospital\n",
            "Enter starting point:\n",
            "1\n",
            "Enter destination:\n",
            "10\n",
            "               Index              Name                Latitude               Longitude\n",
            "Starting point:  1       UT_campus_ENG              35.72433165           51.38847099\n",
            "destination:     10       Iranmehr-hospital              35.76926283           51.44155727\n",
            "Best way is found:\n",
            "Index in order:  1 -> 5 -> 6 -> 7 -> 10\n",
            "\n",
            "Names in order:  UT_campus_ENG -> Mirzaye_shirazi_subway_station -> Kasra_hospital -> Hemat_subway_station -> Iranmehr-hospital\n",
            " cost =  23.0\n"
          ]
        }
      ]
    }
  ]
}